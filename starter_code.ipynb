{
  "nbformat": 4,
  "nbformat_minor": 0,
  "metadata": {
    "colab": {
      "name": "starter-code.ipynb",
      "version": "0.3.2",
      "provenance": [],
      "include_colab_link": true
    },
    "kernelspec": {
      "name": "python3",
      "display_name": "Python 3"
    }
  },
  "cells": [
    {
      "cell_type": "markdown",
      "metadata": {
        "id": "view-in-github",
        "colab_type": "text"
      },
      "source": [
        "<a href=\"https://colab.research.google.com/github/akoo-45/nevis-CNN/blob/master/starter_code.ipynb\" target=\"_parent\"><img src=\"https://colab.research.google.com/assets/colab-badge.svg\" alt=\"Open In Colab\"/></a>"
      ]
    },
    {
      "cell_type": "markdown",
      "metadata": {
        "id": "VcZZCOI2DcU3",
        "colab_type": "text"
      },
      "source": [
        "Follow the instructions given below to not only run VGG16b and ResNet14b files, but to set up your own environment on Hopper for running such files. \n",
        "\n",
        "The code cells are conceptual blocks that you might want to tackle one-by-one. "
      ]
    },
    {
      "cell_type": "code",
      "metadata": {
        "id": "9TrnXkYS22rD",
        "colab_type": "code",
        "colab": {}
      },
      "source": [
        "ssh {insert your username here}@houston.nevis.columbia.edu\n",
        "ssh hopper\n",
        "cd /data/ashley.koo"
      ],
      "execution_count": 0,
      "outputs": []
    },
    {
      "cell_type": "code",
      "metadata": {
        "id": "_xiWU2HA23ri",
        "colab_type": "code",
        "colab": {}
      },
      "source": [
        "# Inside /data/ashley.koo\n",
        "cp .profile /data/{insert your username here} # ex. /data/emily.chin\n",
        "source .profile \n",
        "make\n",
        "cd /data/{your username} \n",
        "git clone https://github.com/DeepLearnPhysics/larcv2.git\n",
        "cd larcv2\n",
        "source configure.sh \n",
        "make "
      ],
      "execution_count": 0,
      "outputs": []
    },
    {
      "cell_type": "code",
      "metadata": {
        "id": "mrrcRVOmC5nj",
        "colab_type": "code",
        "colab": {}
      },
      "source": [
        "mkdir cd /data/{your username}/{any directory name}\n",
        "cd /data/{your username}/{directory}\n",
        "cp /data/ashley.koo/larcv-tutorial/akoo_vgg16b_tf.py .\n",
        "cp /data/ashley.koo/larcv-tutorial/akoo_resnet14b_keras.py ."
      ],
      "execution_count": 0,
      "outputs": []
    },
    {
      "cell_type": "code",
      "metadata": {
        "id": "VL3RDQTz5Tuc",
        "colab_type": "code",
        "colab": {
          "base_uri": "https://localhost:8080/",
          "height": 321
        },
        "outputId": "519d27f3-db72-43e3-eeea-55ca453e6a4e"
      },
      "source": [
        "cd /data/{your username}\n",
        "mkdir /data/{your username}/{any directory name}\n",
        "wget -c http://www.stanford.edu/~kterao/public_data/v0.1.0/2d/classification/five_particles/practice_train_5k.root\n",
        "wget -c http://www.stanford.edu/~kterao/public_data/v0.1.0/2d/classification/five_particles/practice_test_5k.root  "
      ],
      "execution_count": 1,
      "outputs": [
        {
          "output_type": "stream",
          "text": [
            "--2019-05-17 03:58:46--  http://www.stanford.edu/~kterao/public_data/v0.1.0/2d/classification/five_particles/practice_train_5k.root\n",
            "Resolving www.stanford.edu (www.stanford.edu)... 52.2.93.140, 34.225.38.1\n",
            "Connecting to www.stanford.edu (www.stanford.edu)|52.2.93.140|:80... connected.\n",
            "HTTP request sent, awaiting response... 301 Moved Permanently\n",
            "Location: https://web.stanford.edu/~kterao/public_data/v0.1.0/2d/classification/five_particles/practice_train_5k.root [following]\n",
            "--2019-05-17 03:58:51--  https://web.stanford.edu/~kterao/public_data/v0.1.0/2d/classification/five_particles/practice_train_5k.root\n",
            "Resolving web.stanford.edu (web.stanford.edu)... 171.67.215.200, 2607:f6d0:0:925a::ab43:d7c8\n",
            "Connecting to web.stanford.edu (web.stanford.edu)|171.67.215.200|:443... connected.\n",
            "HTTP request sent, awaiting response... 200 OK\n",
            "Length: 44454133 (42M)\n",
            "Saving to: ‘practice_train_5k.root’\n",
            "\n",
            "practice_train_5k.r 100%[===================>]  42.39M   912KB/s    in 48s     \n",
            "\n",
            "2019-05-17 03:59:40 (896 KB/s) - ‘practice_train_5k.root’ saved [44454133/44454133]\n",
            "\n"
          ],
          "name": "stdout"
        }
      ]
    },
    {
      "cell_type": "code",
      "metadata": {
        "id": "x8BOgYh72UI8",
        "colab_type": "code",
        "colab": {}
      },
      "source": [
        "python akoo_resnet14b_keras.py >> output.txt \n",
        "python akoo_vgg16b_tf.py >> output2.txt"
      ],
      "execution_count": 0,
      "outputs": []
    },
    {
      "cell_type": "code",
      "metadata": {
        "id": "yayDVKJNAgEX",
        "colab_type": "code",
        "colab": {}
      },
      "source": [
        "tensorboard --logdir=log"
      ],
      "execution_count": 0,
      "outputs": []
    },
    {
      "cell_type": "code",
      "metadata": {
        "id": "BSjTMtBg3FMF",
        "colab_type": "code",
        "colab": {}
      },
      "source": [
        "\n",
        "python log_plot.py output.txt # modified output.txt with no redundant lines \n"
      ],
      "execution_count": 0,
      "outputs": []
    }
  ]
}